{
 "cells": [
  {
   "cell_type": "markdown",
   "metadata": {},
   "source": [
    "import sys\n",
    "sys.path.append(\"../\")"
   ]
  },
  {
   "cell_type": "code",
   "execution_count": 2,
   "metadata": {},
   "outputs": [],
   "source": [
    "from tac2persian.utils.g2p.g2p import Grapheme2Phoneme"
   ]
  },
  {
   "cell_type": "code",
   "execution_count": 3,
   "metadata": {},
   "outputs": [],
   "source": [
    "g2p = Grapheme2Phoneme()"
   ]
  },
  {
   "cell_type": "markdown",
   "metadata": {},
   "source": [
    "### Test phonemizer with a Persian sentence"
   ]
  },
  {
   "cell_type": "code",
   "execution_count": 16,
   "metadata": {},
   "outputs": [
    {
     "name": "stdout",
     "output_type": "stream",
     "text": [
      "Phonemizer's output:\n",
      "dˈelɑ nˈazd kˈasi bˈenʃin kˈeː ˈuː az dˈel xˈabar dˈɑrad .\n"
     ]
    }
   ],
   "source": [
    "english_text = \"دلا نزد کسی بنشین که او از دل خبر دارد.\"\n",
    "print(\"Phonemizer's output:\")\n",
    "print(g2p.text_to_phone(english_text, language=\"fa\"))\n"
   ]
  },
  {
   "cell_type": "markdown",
   "metadata": {},
   "source": [
    "### Add diacritics for fixing pronounciations"
   ]
  },
  {
   "cell_type": "code",
   "execution_count": 17,
   "metadata": {},
   "outputs": [
    {
     "name": "stdout",
     "output_type": "stream",
     "text": [
      "Phonemization wiht diacritics: \n",
      "dˈelɑ nˈazde kˈasi bˈenʃin kˈeː ˈuː az dˈel xˈabar dˈɑrad .\n"
     ]
    }
   ],
   "source": [
    "print(\"Phonemization wiht diacritics: \")\n",
    "print(g2p.text_to_phone(persian_text, language=\"fa\"))"
   ]
  },
  {
   "cell_type": "markdown",
   "metadata": {},
   "source": [
    "### Get sequence of indices after phonemization"
   ]
  },
  {
   "cell_type": "code",
   "execution_count": 18,
   "metadata": {},
   "outputs": [
    {
     "name": "stdout",
     "output_type": "stream",
     "text": [
      "[4, 106, 5, 11, 38, 116, 13, 106, 1, 25, 4, 5, 116, 10, 106, 1, 18, 8, 116, 2, 106, 5, 13, 83, 8, 13, 116, 10, 106, 5, 108, 116, 106, 20, 108, 116, 1, 25, 116, 4, 106, 5, 11, 116, 23, 106, 1, 2, 1, 17, 116, 4, 106, 38, 17, 1, 4, 116, 117]\n"
     ]
    }
   ],
   "source": [
    "print(g2p.text_to_sequence(persian_text, language=\"fa\"))"
   ]
  },
  {
   "cell_type": "markdown",
   "metadata": {},
   "source": [
    "### Test bilingual mode"
   ]
  },
  {
   "cell_type": "code",
   "execution_count": 23,
   "metadata": {},
   "outputs": [
    {
     "name": "stdout",
     "output_type": "stream",
     "text": [
      "bɑ ˌestefˈɑdeː ˈaz tˈækətɹˌɑːn mitˈavɑn mˈatn rɑ beː sˈoːt tˈabdil kˈard .\n"
     ]
    }
   ],
   "source": [
    "g2p.set_bilingual_languages(first_lang=\"fa\", second_lang=\"en-us\")\n",
    "# You need to put the English between two asterisks\n",
    "bilingual_text = \"با استفاده از *Tacotron* میتوان متن را به صوت تبدیل کرد.\"\n",
    "print(g2p.text_to_phone(bilingual_text, language=\"bilingual\"))\n"
   ]
  },
  {
   "cell_type": "code",
   "execution_count": null,
   "metadata": {},
   "outputs": [],
   "source": []
  }
 ],
 "metadata": {
  "kernelspec": {
   "display_name": "Python 3",
   "language": "python",
   "name": "python3"
  },
  "language_info": {
   "codemirror_mode": {
    "name": "ipython",
    "version": 3
   },
   "file_extension": ".py",
   "mimetype": "text/x-python",
   "name": "python",
   "nbconvert_exporter": "python",
   "pygments_lexer": "ipython3",
   "version": "3.7.8"
  }
 },
 "nbformat": 4,
 "nbformat_minor": 4
}
